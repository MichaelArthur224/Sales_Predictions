{
  "nbformat": 4,
  "nbformat_minor": 0,
  "metadata": {
    "colab": {
      "provenance": [],
      "mount_file_id": "1UMSJr7cI_2jbB3RmpcERjw6YowrIM1dX",
      "authorship_tag": "ABX9TyO9XPdxN8DiLN7fCsKU9gOg"
    },
    "kernelspec": {
      "name": "python3",
      "display_name": "Python 3"
    },
    "language_info": {
      "name": "python"
    }
  },
  "cells": [
    {
      "cell_type": "markdown",
      "source": [
        "Import pandas and numpy"
      ],
      "metadata": {
        "id": "VnqT7Vjdste8"
      }
    },
    {
      "cell_type": "code",
      "execution_count": 35,
      "metadata": {
        "id": "W89hg-5OrqqQ"
      },
      "outputs": [],
      "source": [
        "import pandas as pd\n",
        "import numpy as np\n",
        "import matplotlib.pyplot as plt\n",
        "import seaborn as sns"
      ]
    },
    {
      "cell_type": "markdown",
      "source": [
        "Read in data from drive"
      ],
      "metadata": {
        "id": "Y2HWMGEasyu6"
      }
    },
    {
      "cell_type": "code",
      "source": [
        "df = pd.read_csv('/content/drive/MyDrive/sales_predictions.csv')"
      ],
      "metadata": {
        "id": "vavrBTv7sFn-"
      },
      "execution_count": 106,
      "outputs": []
    },
    {
      "cell_type": "markdown",
      "source": [
        "Show head of data"
      ],
      "metadata": {
        "id": "T_IGccq9s1Kz"
      }
    },
    {
      "cell_type": "code",
      "source": [
        "df.head()"
      ],
      "metadata": {
        "colab": {
          "base_uri": "https://localhost:8080/",
          "height": 206
        },
        "id": "ENMJpX-nsoHx",
        "outputId": "2224066a-b52d-442b-c88e-0051289b44b2"
      },
      "execution_count": 107,
      "outputs": [
        {
          "output_type": "execute_result",
          "data": {
            "text/plain": [
              "  Item_Identifier  Item_Weight Item_Fat_Content  Item_Visibility  \\\n",
              "0           FDA15         9.30          Low Fat         0.016047   \n",
              "1           DRC01         5.92          Regular         0.019278   \n",
              "2           FDN15        17.50          Low Fat         0.016760   \n",
              "3           FDX07        19.20          Regular         0.000000   \n",
              "4           NCD19         8.93          Low Fat         0.000000   \n",
              "\n",
              "               Item_Type  Item_MRP Outlet_Identifier  \\\n",
              "0                  Dairy  249.8092            OUT049   \n",
              "1            Soft Drinks   48.2692            OUT018   \n",
              "2                   Meat  141.6180            OUT049   \n",
              "3  Fruits and Vegetables  182.0950            OUT010   \n",
              "4              Household   53.8614            OUT013   \n",
              "\n",
              "   Outlet_Establishment_Year Outlet_Size Outlet_Location_Type  \\\n",
              "0                       1999      Medium               Tier 1   \n",
              "1                       2009      Medium               Tier 3   \n",
              "2                       1999      Medium               Tier 1   \n",
              "3                       1998         NaN               Tier 3   \n",
              "4                       1987        High               Tier 3   \n",
              "\n",
              "         Outlet_Type  Item_Outlet_Sales  \n",
              "0  Supermarket Type1          3735.1380  \n",
              "1  Supermarket Type2           443.4228  \n",
              "2  Supermarket Type1          2097.2700  \n",
              "3      Grocery Store           732.3800  \n",
              "4  Supermarket Type1           994.7052  "
            ],
            "text/html": [
              "\n",
              "  <div id=\"df-373e20e0-eb84-4e43-b7df-5bf2bb9bb27a\">\n",
              "    <div class=\"colab-df-container\">\n",
              "      <div>\n",
              "<style scoped>\n",
              "    .dataframe tbody tr th:only-of-type {\n",
              "        vertical-align: middle;\n",
              "    }\n",
              "\n",
              "    .dataframe tbody tr th {\n",
              "        vertical-align: top;\n",
              "    }\n",
              "\n",
              "    .dataframe thead th {\n",
              "        text-align: right;\n",
              "    }\n",
              "</style>\n",
              "<table border=\"1\" class=\"dataframe\">\n",
              "  <thead>\n",
              "    <tr style=\"text-align: right;\">\n",
              "      <th></th>\n",
              "      <th>Item_Identifier</th>\n",
              "      <th>Item_Weight</th>\n",
              "      <th>Item_Fat_Content</th>\n",
              "      <th>Item_Visibility</th>\n",
              "      <th>Item_Type</th>\n",
              "      <th>Item_MRP</th>\n",
              "      <th>Outlet_Identifier</th>\n",
              "      <th>Outlet_Establishment_Year</th>\n",
              "      <th>Outlet_Size</th>\n",
              "      <th>Outlet_Location_Type</th>\n",
              "      <th>Outlet_Type</th>\n",
              "      <th>Item_Outlet_Sales</th>\n",
              "    </tr>\n",
              "  </thead>\n",
              "  <tbody>\n",
              "    <tr>\n",
              "      <th>0</th>\n",
              "      <td>FDA15</td>\n",
              "      <td>9.30</td>\n",
              "      <td>Low Fat</td>\n",
              "      <td>0.016047</td>\n",
              "      <td>Dairy</td>\n",
              "      <td>249.8092</td>\n",
              "      <td>OUT049</td>\n",
              "      <td>1999</td>\n",
              "      <td>Medium</td>\n",
              "      <td>Tier 1</td>\n",
              "      <td>Supermarket Type1</td>\n",
              "      <td>3735.1380</td>\n",
              "    </tr>\n",
              "    <tr>\n",
              "      <th>1</th>\n",
              "      <td>DRC01</td>\n",
              "      <td>5.92</td>\n",
              "      <td>Regular</td>\n",
              "      <td>0.019278</td>\n",
              "      <td>Soft Drinks</td>\n",
              "      <td>48.2692</td>\n",
              "      <td>OUT018</td>\n",
              "      <td>2009</td>\n",
              "      <td>Medium</td>\n",
              "      <td>Tier 3</td>\n",
              "      <td>Supermarket Type2</td>\n",
              "      <td>443.4228</td>\n",
              "    </tr>\n",
              "    <tr>\n",
              "      <th>2</th>\n",
              "      <td>FDN15</td>\n",
              "      <td>17.50</td>\n",
              "      <td>Low Fat</td>\n",
              "      <td>0.016760</td>\n",
              "      <td>Meat</td>\n",
              "      <td>141.6180</td>\n",
              "      <td>OUT049</td>\n",
              "      <td>1999</td>\n",
              "      <td>Medium</td>\n",
              "      <td>Tier 1</td>\n",
              "      <td>Supermarket Type1</td>\n",
              "      <td>2097.2700</td>\n",
              "    </tr>\n",
              "    <tr>\n",
              "      <th>3</th>\n",
              "      <td>FDX07</td>\n",
              "      <td>19.20</td>\n",
              "      <td>Regular</td>\n",
              "      <td>0.000000</td>\n",
              "      <td>Fruits and Vegetables</td>\n",
              "      <td>182.0950</td>\n",
              "      <td>OUT010</td>\n",
              "      <td>1998</td>\n",
              "      <td>NaN</td>\n",
              "      <td>Tier 3</td>\n",
              "      <td>Grocery Store</td>\n",
              "      <td>732.3800</td>\n",
              "    </tr>\n",
              "    <tr>\n",
              "      <th>4</th>\n",
              "      <td>NCD19</td>\n",
              "      <td>8.93</td>\n",
              "      <td>Low Fat</td>\n",
              "      <td>0.000000</td>\n",
              "      <td>Household</td>\n",
              "      <td>53.8614</td>\n",
              "      <td>OUT013</td>\n",
              "      <td>1987</td>\n",
              "      <td>High</td>\n",
              "      <td>Tier 3</td>\n",
              "      <td>Supermarket Type1</td>\n",
              "      <td>994.7052</td>\n",
              "    </tr>\n",
              "  </tbody>\n",
              "</table>\n",
              "</div>\n",
              "      <button class=\"colab-df-convert\" onclick=\"convertToInteractive('df-373e20e0-eb84-4e43-b7df-5bf2bb9bb27a')\"\n",
              "              title=\"Convert this dataframe to an interactive table.\"\n",
              "              style=\"display:none;\">\n",
              "        \n",
              "  <svg xmlns=\"http://www.w3.org/2000/svg\" height=\"24px\"viewBox=\"0 0 24 24\"\n",
              "       width=\"24px\">\n",
              "    <path d=\"M0 0h24v24H0V0z\" fill=\"none\"/>\n",
              "    <path d=\"M18.56 5.44l.94 2.06.94-2.06 2.06-.94-2.06-.94-.94-2.06-.94 2.06-2.06.94zm-11 1L8.5 8.5l.94-2.06 2.06-.94-2.06-.94L8.5 2.5l-.94 2.06-2.06.94zm10 10l.94 2.06.94-2.06 2.06-.94-2.06-.94-.94-2.06-.94 2.06-2.06.94z\"/><path d=\"M17.41 7.96l-1.37-1.37c-.4-.4-.92-.59-1.43-.59-.52 0-1.04.2-1.43.59L10.3 9.45l-7.72 7.72c-.78.78-.78 2.05 0 2.83L4 21.41c.39.39.9.59 1.41.59.51 0 1.02-.2 1.41-.59l7.78-7.78 2.81-2.81c.8-.78.8-2.07 0-2.86zM5.41 20L4 18.59l7.72-7.72 1.47 1.35L5.41 20z\"/>\n",
              "  </svg>\n",
              "      </button>\n",
              "      \n",
              "  <style>\n",
              "    .colab-df-container {\n",
              "      display:flex;\n",
              "      flex-wrap:wrap;\n",
              "      gap: 12px;\n",
              "    }\n",
              "\n",
              "    .colab-df-convert {\n",
              "      background-color: #E8F0FE;\n",
              "      border: none;\n",
              "      border-radius: 50%;\n",
              "      cursor: pointer;\n",
              "      display: none;\n",
              "      fill: #1967D2;\n",
              "      height: 32px;\n",
              "      padding: 0 0 0 0;\n",
              "      width: 32px;\n",
              "    }\n",
              "\n",
              "    .colab-df-convert:hover {\n",
              "      background-color: #E2EBFA;\n",
              "      box-shadow: 0px 1px 2px rgba(60, 64, 67, 0.3), 0px 1px 3px 1px rgba(60, 64, 67, 0.15);\n",
              "      fill: #174EA6;\n",
              "    }\n",
              "\n",
              "    [theme=dark] .colab-df-convert {\n",
              "      background-color: #3B4455;\n",
              "      fill: #D2E3FC;\n",
              "    }\n",
              "\n",
              "    [theme=dark] .colab-df-convert:hover {\n",
              "      background-color: #434B5C;\n",
              "      box-shadow: 0px 1px 3px 1px rgba(0, 0, 0, 0.15);\n",
              "      filter: drop-shadow(0px 1px 2px rgba(0, 0, 0, 0.3));\n",
              "      fill: #FFFFFF;\n",
              "    }\n",
              "  </style>\n",
              "\n",
              "      <script>\n",
              "        const buttonEl =\n",
              "          document.querySelector('#df-373e20e0-eb84-4e43-b7df-5bf2bb9bb27a button.colab-df-convert');\n",
              "        buttonEl.style.display =\n",
              "          google.colab.kernel.accessAllowed ? 'block' : 'none';\n",
              "\n",
              "        async function convertToInteractive(key) {\n",
              "          const element = document.querySelector('#df-373e20e0-eb84-4e43-b7df-5bf2bb9bb27a');\n",
              "          const dataTable =\n",
              "            await google.colab.kernel.invokeFunction('convertToInteractive',\n",
              "                                                     [key], {});\n",
              "          if (!dataTable) return;\n",
              "\n",
              "          const docLinkHtml = 'Like what you see? Visit the ' +\n",
              "            '<a target=\"_blank\" href=https://colab.research.google.com/notebooks/data_table.ipynb>data table notebook</a>'\n",
              "            + ' to learn more about interactive tables.';\n",
              "          element.innerHTML = '';\n",
              "          dataTable['output_type'] = 'display_data';\n",
              "          await google.colab.output.renderOutput(dataTable, element);\n",
              "          const docLink = document.createElement('div');\n",
              "          docLink.innerHTML = docLinkHtml;\n",
              "          element.appendChild(docLink);\n",
              "        }\n",
              "      </script>\n",
              "    </div>\n",
              "  </div>\n",
              "  "
            ]
          },
          "metadata": {},
          "execution_count": 107
        }
      ]
    },
    {
      "cell_type": "code",
      "source": [
        "df.shape"
      ],
      "metadata": {
        "colab": {
          "base_uri": "https://localhost:8080/"
        },
        "id": "MrN3EplwI5fu",
        "outputId": "cbf71d9b-5cbd-43d6-aaa2-d423c82039cf"
      },
      "execution_count": 108,
      "outputs": [
        {
          "output_type": "execute_result",
          "data": {
            "text/plain": [
              "(8523, 12)"
            ]
          },
          "metadata": {},
          "execution_count": 108
        }
      ]
    },
    {
      "cell_type": "code",
      "source": [
        "df.dtypes"
      ],
      "metadata": {
        "colab": {
          "base_uri": "https://localhost:8080/"
        },
        "id": "p69tjwrdJR0y",
        "outputId": "d8b67827-9e03-45ed-bfd2-357675de773f"
      },
      "execution_count": 109,
      "outputs": [
        {
          "output_type": "execute_result",
          "data": {
            "text/plain": [
              "Item_Identifier               object\n",
              "Item_Weight                  float64\n",
              "Item_Fat_Content              object\n",
              "Item_Visibility              float64\n",
              "Item_Type                     object\n",
              "Item_MRP                     float64\n",
              "Outlet_Identifier             object\n",
              "Outlet_Establishment_Year      int64\n",
              "Outlet_Size                   object\n",
              "Outlet_Location_Type          object\n",
              "Outlet_Type                   object\n",
              "Item_Outlet_Sales            float64\n",
              "dtype: object"
            ]
          },
          "metadata": {},
          "execution_count": 109
        }
      ]
    },
    {
      "cell_type": "code",
      "source": [
        "df.duplicated().sum()\n"
      ],
      "metadata": {
        "colab": {
          "base_uri": "https://localhost:8080/"
        },
        "id": "6FVPkrlDJYx9",
        "outputId": "338b9e4a-e007-465a-aa95-5385aee9b142"
      },
      "execution_count": 110,
      "outputs": [
        {
          "output_type": "execute_result",
          "data": {
            "text/plain": [
              "0"
            ]
          },
          "metadata": {},
          "execution_count": 110
        }
      ]
    },
    {
      "cell_type": "code",
      "source": [
        "df.isna().sum()"
      ],
      "metadata": {
        "colab": {
          "base_uri": "https://localhost:8080/"
        },
        "id": "78RG5ZzaKNt0",
        "outputId": "8ff70cf3-7760-4e1f-8b5c-49cae73c9945"
      },
      "execution_count": 111,
      "outputs": [
        {
          "output_type": "execute_result",
          "data": {
            "text/plain": [
              "Item_Identifier                 0\n",
              "Item_Weight                  1463\n",
              "Item_Fat_Content                0\n",
              "Item_Visibility                 0\n",
              "Item_Type                       0\n",
              "Item_MRP                        0\n",
              "Outlet_Identifier               0\n",
              "Outlet_Establishment_Year       0\n",
              "Outlet_Size                  2410\n",
              "Outlet_Location_Type            0\n",
              "Outlet_Type                     0\n",
              "Item_Outlet_Sales               0\n",
              "dtype: int64"
            ]
          },
          "metadata": {},
          "execution_count": 111
        }
      ]
    },
    {
      "cell_type": "markdown",
      "source": [
        "I choose to fill Outlet_Size since it has the most missing and the options are limited"
      ],
      "metadata": {
        "id": "MyZCjNLLNCqY"
      }
    },
    {
      "cell_type": "code",
      "source": [
        "new = df['Outlet_Size'].mode()\n",
        "newdf = df['Outlet_Size'].fillna(new, inplace = True)"
      ],
      "metadata": {
        "id": "UYqcuenEKY0M"
      },
      "execution_count": 112,
      "outputs": []
    },
    {
      "cell_type": "markdown",
      "source": [
        "I chose to drop the Item_Weight with no values because we have many different items. I did not want the mean from meat and dairy to mix in with somthing small like a soda can. Generally when identifiying an item we can assume the weight."
      ],
      "metadata": {
        "id": "rr0TgwoaOrd2"
      }
    },
    {
      "cell_type": "code",
      "source": [
        "weight = df.dropna(subset = ['Item_Weight'], inplace=False)"
      ],
      "metadata": {
        "id": "wBnJNKTANgZw"
      },
      "execution_count": 113,
      "outputs": []
    },
    {
      "cell_type": "markdown",
      "source": [
        "Unique values needed to be corrected in column 'Item_Fat_Content"
      ],
      "metadata": {
        "id": "Ps0KXi2BQdqa"
      }
    },
    {
      "cell_type": "code",
      "source": [
        "df.nunique()"
      ],
      "metadata": {
        "colab": {
          "base_uri": "https://localhost:8080/"
        },
        "id": "jiP9V_doPRqP",
        "outputId": "c151e19d-f178-4c55-b89e-2065cbb31520"
      },
      "execution_count": 114,
      "outputs": [
        {
          "output_type": "execute_result",
          "data": {
            "text/plain": [
              "Item_Identifier              1559\n",
              "Item_Weight                   415\n",
              "Item_Fat_Content                5\n",
              "Item_Visibility              7880\n",
              "Item_Type                      16\n",
              "Item_MRP                     5938\n",
              "Outlet_Identifier              10\n",
              "Outlet_Establishment_Year       9\n",
              "Outlet_Size                     3\n",
              "Outlet_Location_Type            3\n",
              "Outlet_Type                     4\n",
              "Item_Outlet_Sales            3493\n",
              "dtype: int64"
            ]
          },
          "metadata": {},
          "execution_count": 114
        }
      ]
    },
    {
      "cell_type": "code",
      "source": [
        "df['Item_Fat_Content'].value_counts()"
      ],
      "metadata": {
        "colab": {
          "base_uri": "https://localhost:8080/"
        },
        "id": "iW1Tw1DsoQ-6",
        "outputId": "245801a2-679e-476c-bd5d-ad332af184c3"
      },
      "execution_count": 115,
      "outputs": [
        {
          "output_type": "execute_result",
          "data": {
            "text/plain": [
              "Low Fat    5089\n",
              "Regular    2889\n",
              "LF          316\n",
              "reg         117\n",
              "low fat     112\n",
              "Name: Item_Fat_Content, dtype: int64"
            ]
          },
          "metadata": {},
          "execution_count": 115
        }
      ]
    },
    {
      "cell_type": "code",
      "source": [
        "df['Item_Fat_Content'] = df['Item_Fat_Content'].replace('LF', 'Low Fat')\n",
        "df['Item_Fat_Content'] = df['Item_Fat_Content'].replace('reg', 'Regular')\n",
        "df['Item_Fat_Content'] = df['Item_Fat_Content'].replace('low fat', 'Low Fat')"
      ],
      "metadata": {
        "id": "n4pWnpaOow0X"
      },
      "execution_count": 116,
      "outputs": []
    },
    {
      "cell_type": "code",
      "source": [
        "df['Item_Fat_Content'].value_counts()\n"
      ],
      "metadata": {
        "colab": {
          "base_uri": "https://localhost:8080/"
        },
        "id": "sujFkmNfpPYK",
        "outputId": "c364cb96-2347-42f4-97c4-1c5b9d12202e"
      },
      "execution_count": 117,
      "outputs": [
        {
          "output_type": "execute_result",
          "data": {
            "text/plain": [
              "Low Fat    5517\n",
              "Regular    3006\n",
              "Name: Item_Fat_Content, dtype: int64"
            ]
          },
          "metadata": {},
          "execution_count": 117
        }
      ]
    },
    {
      "cell_type": "code",
      "source": [
        "df['Item_MRP'].describe()"
      ],
      "metadata": {
        "id": "6yn6Wwd5QgyU",
        "colab": {
          "base_uri": "https://localhost:8080/"
        },
        "outputId": "6c7b641c-be69-45b9-9fe9-afaa494a50eb"
      },
      "execution_count": 118,
      "outputs": [
        {
          "output_type": "execute_result",
          "data": {
            "text/plain": [
              "count    8523.000000\n",
              "mean      140.992782\n",
              "std        62.275067\n",
              "min        31.290000\n",
              "25%        93.826500\n",
              "50%       143.012800\n",
              "75%       185.643700\n",
              "max       266.888400\n",
              "Name: Item_MRP, dtype: float64"
            ]
          },
          "metadata": {},
          "execution_count": 118
        }
      ]
    },
    {
      "cell_type": "code",
      "source": [
        "df['Item_Visibility'].describe()"
      ],
      "metadata": {
        "id": "ETNiKH2wQ9q7",
        "colab": {
          "base_uri": "https://localhost:8080/"
        },
        "outputId": "1a0154b4-3da5-4c31-8d70-3211c54389b8"
      },
      "execution_count": 119,
      "outputs": [
        {
          "output_type": "execute_result",
          "data": {
            "text/plain": [
              "count    8523.000000\n",
              "mean        0.066132\n",
              "std         0.051598\n",
              "min         0.000000\n",
              "25%         0.026989\n",
              "50%         0.053931\n",
              "75%         0.094585\n",
              "max         0.328391\n",
              "Name: Item_Visibility, dtype: float64"
            ]
          },
          "metadata": {},
          "execution_count": 119
        }
      ]
    },
    {
      "cell_type": "code",
      "source": [
        "df['Item_Weight'].describe()"
      ],
      "metadata": {
        "id": "yi8YPCI5RHKU",
        "colab": {
          "base_uri": "https://localhost:8080/"
        },
        "outputId": "bc9fec0a-466a-4767-f302-3c2ab8c56b41"
      },
      "execution_count": 120,
      "outputs": [
        {
          "output_type": "execute_result",
          "data": {
            "text/plain": [
              "count    7060.000000\n",
              "mean       12.857645\n",
              "std         4.643456\n",
              "min         4.555000\n",
              "25%         8.773750\n",
              "50%        12.600000\n",
              "75%        16.850000\n",
              "max        21.350000\n",
              "Name: Item_Weight, dtype: float64"
            ]
          },
          "metadata": {},
          "execution_count": 120
        }
      ]
    },
    {
      "cell_type": "code",
      "source": [
        "df['Outlet_Establishment_Year'].describe()"
      ],
      "metadata": {
        "id": "w2UhY6EvRR9i",
        "colab": {
          "base_uri": "https://localhost:8080/"
        },
        "outputId": "ec03e95a-3d0a-4c30-d62d-9fbb2c58db0f"
      },
      "execution_count": 121,
      "outputs": [
        {
          "output_type": "execute_result",
          "data": {
            "text/plain": [
              "count    8523.000000\n",
              "mean     1997.831867\n",
              "std         8.371760\n",
              "min      1985.000000\n",
              "25%      1987.000000\n",
              "50%      1999.000000\n",
              "75%      2004.000000\n",
              "max      2009.000000\n",
              "Name: Outlet_Establishment_Year, dtype: float64"
            ]
          },
          "metadata": {},
          "execution_count": 121
        }
      ]
    },
    {
      "cell_type": "code",
      "source": [
        "df['Item_Outlet_Sales'].describe()"
      ],
      "metadata": {
        "id": "MO5FI2SVRiX5",
        "colab": {
          "base_uri": "https://localhost:8080/"
        },
        "outputId": "4f7f7043-ebeb-4a28-ca1d-347776e6a154"
      },
      "execution_count": 122,
      "outputs": [
        {
          "output_type": "execute_result",
          "data": {
            "text/plain": [
              "count     8523.000000\n",
              "mean      2181.288914\n",
              "std       1706.499616\n",
              "min         33.290000\n",
              "25%        834.247400\n",
              "50%       1794.331000\n",
              "75%       3101.296400\n",
              "max      13086.964800\n",
              "Name: Item_Outlet_Sales, dtype: float64"
            ]
          },
          "metadata": {},
          "execution_count": 122
        }
      ]
    },
    {
      "cell_type": "code",
      "source": [
        "df['Outlet_Establishment_Year'].hist()"
      ],
      "metadata": {
        "colab": {
          "base_uri": "https://localhost:8080/",
          "height": 283
        },
        "id": "JPu6TerUorAX",
        "outputId": "5682600e-abb6-43bd-a96d-52ed589ea25b"
      },
      "execution_count": 123,
      "outputs": [
        {
          "output_type": "execute_result",
          "data": {
            "text/plain": [
              "<matplotlib.axes._subplots.AxesSubplot at 0x7f48e266a410>"
            ]
          },
          "metadata": {},
          "execution_count": 123
        },
        {
          "output_type": "display_data",
          "data": {
            "text/plain": [
              "<Figure size 432x288 with 1 Axes>"
            ],
            "image/png": "[encoded data removed]"
          },
          "metadata": {
            "needs_background": "light"
          }
        }
      ]
    },
    {
      "cell_type": "code",
      "source": [
        "df['Item_Weight'].hist()"
      ],
      "metadata": {
        "colab": {
          "base_uri": "https://localhost:8080/",
          "height": 282
        },
        "id": "jDL0uNwvqIK4",
        "outputId": "a41688fb-d62d-4c11-9a31-69224d73a394"
      },
      "execution_count": 124,
      "outputs": [
        {
          "output_type": "execute_result",
          "data": {
            "text/plain": [
              "<matplotlib.axes._subplots.AxesSubplot at 0x7f48e77ca0d0>"
            ]
          },
          "metadata": {},
          "execution_count": 124
        },
        {
          "output_type": "display_data",
          "data": {
            "text/plain": [
              "<Figure size 432x288 with 1 Axes>"
            ],
            "image/png": "[encoded data removed]"
          },
          "metadata": {
            "needs_background": "light"
          }
        }
      ]
    },
    {
      "cell_type": "code",
      "source": [
        "df.boxplot(column ='Outlet_Establishment_Year')"
      ],
      "metadata": {
        "colab": {
          "base_uri": "https://localhost:8080/",
          "height": 286
        },
        "id": "W6Ud2djqrgsN",
        "outputId": "c0d93423-7731-4284-f517-782511bef2c8"
      },
      "execution_count": 125,
      "outputs": [
        {
          "output_type": "execute_result",
          "data": {
            "text/plain": [
              "<matplotlib.axes._subplots.AxesSubplot at 0x7f48e259b6d0>"
            ]
          },
          "metadata": {},
          "execution_count": 125
        },
        {
          "output_type": "display_data",
          "data": {
            "text/plain": [
              "<Figure size 432x288 with 1 Axes>"
            ],
            "image/png": "[encoded data removed]"
          },
          "metadata": {
            "needs_background": "light"
          }
        }
      ]
    },
    {
      "cell_type": "code",
      "source": [
        "df.boxplot(column ='Item_Weight')"
      ],
      "metadata": {
        "colab": {
          "base_uri": "https://localhost:8080/",
          "height": 283
        },
        "id": "sB_4x1yQsZNc",
        "outputId": "c32324e9-73a9-402e-ba06-6cc8275fa515"
      },
      "execution_count": 22,
      "outputs": [
        {
          "output_type": "execute_result",
          "data": {
            "text/plain": [
              "<matplotlib.axes._subplots.AxesSubplot at 0x7f48e8631e10>"
            ]
          },
          "metadata": {},
          "execution_count": 22
        },
        {
          "output_type": "display_data",
          "data": {
            "text/plain": [
              "<Figure size 432x288 with 1 Axes>"
            ],
            "image/png": "[encoded data removed]"
          },
          "metadata": {
            "needs_background": "light"
          }
        }
      ]
    },
    {
      "cell_type": "code",
      "source": [
        "fig, ax = plt.subplots(figsize=(10,10))\n",
        "sns.color_palette(\"rocket\", as_cmap=True)\n",
        "sns.heatmap(df.corr(), annot=True, ax=ax)\n",
        "plt.show()"
      ],
      "metadata": {
        "colab": {
          "base_uri": "https://localhost:8080/",
          "height": 719
        },
        "id": "zvDHoMMeuqs2",
        "outputId": "f173e18b-d03d-4ac4-d35c-2b8cf25db3eb"
      },
      "execution_count": 129,
      "outputs": [
        {
          "output_type": "display_data",
          "data": {
            "text/plain": [
              "<Figure size 720x720 with 2 Axes>"
            ],
            "image/png": "[encoded data removed]"
          },
          "metadata": {
            "needs_background": "light"
          }
        }
      ]
    },
    {
      "cell_type": "markdown",
      "source": [
        "In the heat map we can see the correlation between all our numeric values"
      ],
      "metadata": {
        "id": "r1wxIVMfvPQu"
      }
    }
  ]
}